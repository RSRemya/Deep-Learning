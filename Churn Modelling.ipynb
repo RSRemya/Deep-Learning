{
 "cells": [
  {
   "cell_type": "code",
   "execution_count": 1,
   "id": "7a348f21",
   "metadata": {},
   "outputs": [
    {
     "name": "stdout",
     "output_type": "stream",
     "text": [
      "Defaulting to user installation because normal site-packages is not writeable\n",
      "Requirement already satisfied: tensorflow.gpu in c:\\users\\hp\\appdata\\roaming\\python\\python39\\site-packages (2.10.0)\n",
      "Requirement already satisfied: opt-einsum>=2.3.2 in c:\\users\\hp\\appdata\\roaming\\python\\python39\\site-packages (from tensorflow.gpu) (3.3.0)\n",
      "Requirement already satisfied: packaging in c:\\programdata\\anaconda3\\lib\\site-packages (from tensorflow.gpu) (21.3)\n",
      "Requirement already satisfied: astunparse>=1.6.0 in c:\\users\\hp\\appdata\\roaming\\python\\python39\\site-packages (from tensorflow.gpu) (1.6.3)\n",
      "Requirement already satisfied: tensorflow-io-gcs-filesystem>=0.23.1 in c:\\users\\hp\\appdata\\roaming\\python\\python39\\site-packages (from tensorflow.gpu) (0.27.0)\n",
      "Requirement already satisfied: setuptools in c:\\programdata\\anaconda3\\lib\\site-packages (from tensorflow.gpu) (61.2.0)\n",
      "Requirement already satisfied: keras<2.11,>=2.10.0 in c:\\users\\hp\\appdata\\roaming\\python\\python39\\site-packages (from tensorflow.gpu) (2.10.0)\n",
      "Requirement already satisfied: tensorboard<2.11,>=2.10 in c:\\users\\hp\\appdata\\roaming\\python\\python39\\site-packages (from tensorflow.gpu) (2.10.0)\n",
      "Requirement already satisfied: numpy>=1.20 in c:\\programdata\\anaconda3\\lib\\site-packages (from tensorflow.gpu) (1.21.5)\n",
      "Requirement already satisfied: tensorflow-estimator<2.11,>=2.10.0 in c:\\users\\hp\\appdata\\roaming\\python\\python39\\site-packages (from tensorflow.gpu) (2.10.0)\n",
      "Requirement already satisfied: keras-preprocessing>=1.1.1 in c:\\users\\hp\\appdata\\roaming\\python\\python39\\site-packages (from tensorflow.gpu) (1.1.2)\n",
      "Requirement already satisfied: gast<=0.4.0,>=0.2.1 in c:\\users\\hp\\appdata\\roaming\\python\\python39\\site-packages (from tensorflow.gpu) (0.4.0)\n",
      "Requirement already satisfied: flatbuffers>=2.0 in c:\\users\\hp\\appdata\\roaming\\python\\python39\\site-packages (from tensorflow.gpu) (2.0.7)\n",
      "Requirement already satisfied: absl-py>=1.0.0 in c:\\users\\hp\\appdata\\roaming\\python\\python39\\site-packages (from tensorflow.gpu) (1.2.0)\n",
      "Requirement already satisfied: libclang>=13.0.0 in c:\\users\\hp\\appdata\\roaming\\python\\python39\\site-packages (from tensorflow.gpu) (14.0.6)\n",
      "Requirement already satisfied: h5py>=2.9.0 in c:\\programdata\\anaconda3\\lib\\site-packages (from tensorflow.gpu) (3.6.0)\n",
      "Requirement already satisfied: protobuf<3.20,>=3.9.2 in c:\\programdata\\anaconda3\\lib\\site-packages (from tensorflow.gpu) (3.19.1)\n",
      "Requirement already satisfied: six>=1.12.0 in c:\\programdata\\anaconda3\\lib\\site-packages (from tensorflow.gpu) (1.16.0)\n",
      "Requirement already satisfied: grpcio<2.0,>=1.24.3 in c:\\programdata\\anaconda3\\lib\\site-packages (from tensorflow.gpu) (1.42.0)\n",
      "Requirement already satisfied: google-pasta>=0.1.1 in c:\\users\\hp\\appdata\\roaming\\python\\python39\\site-packages (from tensorflow.gpu) (0.2.0)\n",
      "Requirement already satisfied: termcolor>=1.1.0 in c:\\users\\hp\\appdata\\roaming\\python\\python39\\site-packages (from tensorflow.gpu) (2.0.1)\n",
      "Requirement already satisfied: wrapt>=1.11.0 in c:\\programdata\\anaconda3\\lib\\site-packages (from tensorflow.gpu) (1.12.1)\n",
      "Requirement already satisfied: typing-extensions>=3.6.6 in c:\\programdata\\anaconda3\\lib\\site-packages (from tensorflow.gpu) (4.1.1)\n",
      "Requirement already satisfied: wheel<1.0,>=0.23.0 in c:\\programdata\\anaconda3\\lib\\site-packages (from astunparse>=1.6.0->tensorflow.gpu) (0.37.1)\n",
      "Requirement already satisfied: google-auth-oauthlib<0.5,>=0.4.1 in c:\\users\\hp\\appdata\\roaming\\python\\python39\\site-packages (from tensorboard<2.11,>=2.10->tensorflow.gpu) (0.4.6)\n",
      "Requirement already satisfied: tensorboard-data-server<0.7.0,>=0.6.0 in c:\\users\\hp\\appdata\\roaming\\python\\python39\\site-packages (from tensorboard<2.11,>=2.10->tensorflow.gpu) (0.6.1)\n",
      "Requirement already satisfied: markdown>=2.6.8 in c:\\programdata\\anaconda3\\lib\\site-packages (from tensorboard<2.11,>=2.10->tensorflow.gpu) (3.3.4)\n",
      "Requirement already satisfied: werkzeug>=1.0.1 in c:\\programdata\\anaconda3\\lib\\site-packages (from tensorboard<2.11,>=2.10->tensorflow.gpu) (2.0.3)\n",
      "Requirement already satisfied: tensorboard-plugin-wit>=1.6.0 in c:\\users\\hp\\appdata\\roaming\\python\\python39\\site-packages (from tensorboard<2.11,>=2.10->tensorflow.gpu) (1.8.1)\n",
      "Requirement already satisfied: requests<3,>=2.21.0 in c:\\programdata\\anaconda3\\lib\\site-packages (from tensorboard<2.11,>=2.10->tensorflow.gpu) (2.27.1)\n",
      "Requirement already satisfied: google-auth<3,>=1.6.3 in c:\\programdata\\anaconda3\\lib\\site-packages (from tensorboard<2.11,>=2.10->tensorflow.gpu) (1.33.0)\n",
      "Requirement already satisfied: cachetools<5.0,>=2.0.0 in c:\\programdata\\anaconda3\\lib\\site-packages (from google-auth<3,>=1.6.3->tensorboard<2.11,>=2.10->tensorflow.gpu) (4.2.2)\n",
      "Requirement already satisfied: pyasn1-modules>=0.2.1 in c:\\programdata\\anaconda3\\lib\\site-packages (from google-auth<3,>=1.6.3->tensorboard<2.11,>=2.10->tensorflow.gpu) (0.2.8)\n",
      "Requirement already satisfied: rsa<5,>=3.1.4 in c:\\programdata\\anaconda3\\lib\\site-packages (from google-auth<3,>=1.6.3->tensorboard<2.11,>=2.10->tensorflow.gpu) (4.7.2)\n",
      "Requirement already satisfied: requests-oauthlib>=0.7.0 in c:\\users\\hp\\appdata\\roaming\\python\\python39\\site-packages (from google-auth-oauthlib<0.5,>=0.4.1->tensorboard<2.11,>=2.10->tensorflow.gpu) (1.3.1)\n",
      "Requirement already satisfied: pyasn1<0.5.0,>=0.4.6 in c:\\programdata\\anaconda3\\lib\\site-packages (from pyasn1-modules>=0.2.1->google-auth<3,>=1.6.3->tensorboard<2.11,>=2.10->tensorflow.gpu) (0.4.8)\n",
      "Requirement already satisfied: idna<4,>=2.5 in c:\\programdata\\anaconda3\\lib\\site-packages (from requests<3,>=2.21.0->tensorboard<2.11,>=2.10->tensorflow.gpu) (3.3)\n",
      "Requirement already satisfied: urllib3<1.27,>=1.21.1 in c:\\programdata\\anaconda3\\lib\\site-packages (from requests<3,>=2.21.0->tensorboard<2.11,>=2.10->tensorflow.gpu) (1.26.9)\n",
      "Requirement already satisfied: charset-normalizer~=2.0.0 in c:\\programdata\\anaconda3\\lib\\site-packages (from requests<3,>=2.21.0->tensorboard<2.11,>=2.10->tensorflow.gpu) (2.0.4)\n",
      "Requirement already satisfied: certifi>=2017.4.17 in c:\\programdata\\anaconda3\\lib\\site-packages (from requests<3,>=2.21.0->tensorboard<2.11,>=2.10->tensorflow.gpu) (2021.10.8)\n",
      "Requirement already satisfied: oauthlib>=3.0.0 in c:\\users\\hp\\appdata\\roaming\\python\\python39\\site-packages (from requests-oauthlib>=0.7.0->google-auth-oauthlib<0.5,>=0.4.1->tensorboard<2.11,>=2.10->tensorflow.gpu) (3.2.1)\n",
      "Requirement already satisfied: pyparsing!=3.0.5,>=2.0.2 in c:\\programdata\\anaconda3\\lib\\site-packages (from packaging->tensorflow.gpu) (3.0.4)\n"
     ]
    }
   ],
   "source": [
    "!pip install tensorflow.gpu"
   ]
  },
  {
   "cell_type": "markdown",
   "id": "3767ef35",
   "metadata": {},
   "source": [
    "TensorFlow is a free and open-source software library for machine learning and artificial intelligence."
   ]
  },
  {
   "cell_type": "code",
   "execution_count": 2,
   "id": "be36edd2",
   "metadata": {},
   "outputs": [],
   "source": [
    "from tensorflow.keras.models import load_model"
   ]
  },
  {
   "cell_type": "code",
   "execution_count": 3,
   "id": "ac3326f2",
   "metadata": {},
   "outputs": [],
   "source": [
    "# import basic libraries\n",
    "\n",
    "#for complex mathematical operations\n",
    "import numpy as np \n",
    "\n",
    "#for dataframe manipulation \n",
    "import pandas as pd\n",
    "\n",
    "# for data visulisation\n",
    "import seaborn as sns\n",
    "import matplotlib.pyplot as plt\n",
    "\n",
    "\n",
    "import warnings\n",
    "warnings.filterwarnings(\"ignore\")"
   ]
  },
  {
   "cell_type": "code",
   "execution_count": 4,
   "id": "d8965883",
   "metadata": {},
   "outputs": [],
   "source": [
    "from sklearn.preprocessing import StandardScaler"
   ]
  },
  {
   "cell_type": "code",
   "execution_count": 5,
   "id": "2e31c5b0",
   "metadata": {},
   "outputs": [],
   "source": [
    "from tensorflow.keras.models import Sequential\n",
    "# tensorflow.keras is present in layers package\n",
    "#Sequential is used for initialising neural network model.......Sequntial indicates that we can do both forward and bakward propogation\n",
    "from tensorflow.keras.layers import Dense\n",
    "#Dense used for adding/creating layers(input, hidden and output layers)\n",
    "from tensorflow.keras.layers import LeakyReLU, PReLU, ELU, ReLU#importing activation functions\n",
    "from tensorflow.keras.layers import Dropout\n",
    "# Dropout is like a regularisation paramaeter used to avoid overfitting"
   ]
  },
  {
   "cell_type": "code",
   "execution_count": 6,
   "id": "522b6c50",
   "metadata": {},
   "outputs": [],
   "source": [
    "dataset = pd.read_csv(\"Churn_Modelling.csv\")"
   ]
  },
  {
   "cell_type": "code",
   "execution_count": 7,
   "id": "129d5409",
   "metadata": {},
   "outputs": [
    {
     "data": {
      "text/plain": [
       "(10000, 14)"
      ]
     },
     "execution_count": 7,
     "metadata": {},
     "output_type": "execute_result"
    }
   ],
   "source": [
    "dataset.shape"
   ]
  },
  {
   "cell_type": "code",
   "execution_count": 8,
   "id": "9c81a91e",
   "metadata": {},
   "outputs": [
    {
     "data": {
      "text/html": [
       "<div>\n",
       "<style scoped>\n",
       "    .dataframe tbody tr th:only-of-type {\n",
       "        vertical-align: middle;\n",
       "    }\n",
       "\n",
       "    .dataframe tbody tr th {\n",
       "        vertical-align: top;\n",
       "    }\n",
       "\n",
       "    .dataframe thead th {\n",
       "        text-align: right;\n",
       "    }\n",
       "</style>\n",
       "<table border=\"1\" class=\"dataframe\">\n",
       "  <thead>\n",
       "    <tr style=\"text-align: right;\">\n",
       "      <th></th>\n",
       "      <th>RowNumber</th>\n",
       "      <th>CustomerId</th>\n",
       "      <th>Surname</th>\n",
       "      <th>CreditScore</th>\n",
       "      <th>Geography</th>\n",
       "      <th>Gender</th>\n",
       "      <th>Age</th>\n",
       "      <th>Tenure</th>\n",
       "      <th>Balance</th>\n",
       "      <th>NumOfProducts</th>\n",
       "      <th>HasCrCard</th>\n",
       "      <th>IsActiveMember</th>\n",
       "      <th>EstimatedSalary</th>\n",
       "      <th>Exited</th>\n",
       "    </tr>\n",
       "  </thead>\n",
       "  <tbody>\n",
       "    <tr>\n",
       "      <th>0</th>\n",
       "      <td>1</td>\n",
       "      <td>15634602</td>\n",
       "      <td>Hargrave</td>\n",
       "      <td>619</td>\n",
       "      <td>France</td>\n",
       "      <td>Female</td>\n",
       "      <td>42</td>\n",
       "      <td>2</td>\n",
       "      <td>0.00</td>\n",
       "      <td>1</td>\n",
       "      <td>1</td>\n",
       "      <td>1</td>\n",
       "      <td>101348.88</td>\n",
       "      <td>1</td>\n",
       "    </tr>\n",
       "    <tr>\n",
       "      <th>1</th>\n",
       "      <td>2</td>\n",
       "      <td>15647311</td>\n",
       "      <td>Hill</td>\n",
       "      <td>608</td>\n",
       "      <td>Spain</td>\n",
       "      <td>Female</td>\n",
       "      <td>41</td>\n",
       "      <td>1</td>\n",
       "      <td>83807.86</td>\n",
       "      <td>1</td>\n",
       "      <td>0</td>\n",
       "      <td>1</td>\n",
       "      <td>112542.58</td>\n",
       "      <td>0</td>\n",
       "    </tr>\n",
       "    <tr>\n",
       "      <th>2</th>\n",
       "      <td>3</td>\n",
       "      <td>15619304</td>\n",
       "      <td>Onio</td>\n",
       "      <td>502</td>\n",
       "      <td>France</td>\n",
       "      <td>Female</td>\n",
       "      <td>42</td>\n",
       "      <td>8</td>\n",
       "      <td>159660.80</td>\n",
       "      <td>3</td>\n",
       "      <td>1</td>\n",
       "      <td>0</td>\n",
       "      <td>113931.57</td>\n",
       "      <td>1</td>\n",
       "    </tr>\n",
       "    <tr>\n",
       "      <th>3</th>\n",
       "      <td>4</td>\n",
       "      <td>15701354</td>\n",
       "      <td>Boni</td>\n",
       "      <td>699</td>\n",
       "      <td>France</td>\n",
       "      <td>Female</td>\n",
       "      <td>39</td>\n",
       "      <td>1</td>\n",
       "      <td>0.00</td>\n",
       "      <td>2</td>\n",
       "      <td>0</td>\n",
       "      <td>0</td>\n",
       "      <td>93826.63</td>\n",
       "      <td>0</td>\n",
       "    </tr>\n",
       "    <tr>\n",
       "      <th>4</th>\n",
       "      <td>5</td>\n",
       "      <td>15737888</td>\n",
       "      <td>Mitchell</td>\n",
       "      <td>850</td>\n",
       "      <td>Spain</td>\n",
       "      <td>Female</td>\n",
       "      <td>43</td>\n",
       "      <td>2</td>\n",
       "      <td>125510.82</td>\n",
       "      <td>1</td>\n",
       "      <td>1</td>\n",
       "      <td>1</td>\n",
       "      <td>79084.10</td>\n",
       "      <td>0</td>\n",
       "    </tr>\n",
       "  </tbody>\n",
       "</table>\n",
       "</div>"
      ],
      "text/plain": [
       "   RowNumber  CustomerId   Surname  CreditScore Geography  Gender  Age  \\\n",
       "0          1    15634602  Hargrave          619    France  Female   42   \n",
       "1          2    15647311      Hill          608     Spain  Female   41   \n",
       "2          3    15619304      Onio          502    France  Female   42   \n",
       "3          4    15701354      Boni          699    France  Female   39   \n",
       "4          5    15737888  Mitchell          850     Spain  Female   43   \n",
       "\n",
       "   Tenure    Balance  NumOfProducts  HasCrCard  IsActiveMember  \\\n",
       "0       2       0.00              1          1               1   \n",
       "1       1   83807.86              1          0               1   \n",
       "2       8  159660.80              3          1               0   \n",
       "3       1       0.00              2          0               0   \n",
       "4       2  125510.82              1          1               1   \n",
       "\n",
       "   EstimatedSalary  Exited  \n",
       "0        101348.88       1  \n",
       "1        112542.58       0  \n",
       "2        113931.57       1  \n",
       "3         93826.63       0  \n",
       "4         79084.10       0  "
      ]
     },
     "execution_count": 8,
     "metadata": {},
     "output_type": "execute_result"
    }
   ],
   "source": [
    "dataset.head()"
   ]
  },
  {
   "cell_type": "code",
   "execution_count": 9,
   "id": "8ae2fd55",
   "metadata": {},
   "outputs": [
    {
     "data": {
      "text/plain": [
       "RowNumber          0\n",
       "CustomerId         0\n",
       "Surname            0\n",
       "CreditScore        0\n",
       "Geography          0\n",
       "Gender             0\n",
       "Age                0\n",
       "Tenure             0\n",
       "Balance            0\n",
       "NumOfProducts      0\n",
       "HasCrCard          0\n",
       "IsActiveMember     0\n",
       "EstimatedSalary    0\n",
       "Exited             0\n",
       "dtype: int64"
      ]
     },
     "execution_count": 9,
     "metadata": {},
     "output_type": "execute_result"
    }
   ],
   "source": [
    "dataset.isnull().sum()"
   ]
  },
  {
   "cell_type": "code",
   "execution_count": 10,
   "id": "ee851eff",
   "metadata": {},
   "outputs": [],
   "source": [
    "#dataset.drop(['RowNumber', 'CustomerId','Surname'], axis=1, inplace=True)# axis=1 for coloumnwise operation# works same as code below\n",
    "dataset=dataset.iloc[:,3:14]"
   ]
  },
  {
   "cell_type": "code",
   "execution_count": 11,
   "id": "72c51ba5",
   "metadata": {},
   "outputs": [
    {
     "data": {
      "text/html": [
       "<div>\n",
       "<style scoped>\n",
       "    .dataframe tbody tr th:only-of-type {\n",
       "        vertical-align: middle;\n",
       "    }\n",
       "\n",
       "    .dataframe tbody tr th {\n",
       "        vertical-align: top;\n",
       "    }\n",
       "\n",
       "    .dataframe thead th {\n",
       "        text-align: right;\n",
       "    }\n",
       "</style>\n",
       "<table border=\"1\" class=\"dataframe\">\n",
       "  <thead>\n",
       "    <tr style=\"text-align: right;\">\n",
       "      <th></th>\n",
       "      <th>CreditScore</th>\n",
       "      <th>Geography</th>\n",
       "      <th>Gender</th>\n",
       "      <th>Age</th>\n",
       "      <th>Tenure</th>\n",
       "      <th>Balance</th>\n",
       "      <th>NumOfProducts</th>\n",
       "      <th>HasCrCard</th>\n",
       "      <th>IsActiveMember</th>\n",
       "      <th>EstimatedSalary</th>\n",
       "      <th>Exited</th>\n",
       "    </tr>\n",
       "  </thead>\n",
       "  <tbody>\n",
       "    <tr>\n",
       "      <th>0</th>\n",
       "      <td>619</td>\n",
       "      <td>France</td>\n",
       "      <td>Female</td>\n",
       "      <td>42</td>\n",
       "      <td>2</td>\n",
       "      <td>0.00</td>\n",
       "      <td>1</td>\n",
       "      <td>1</td>\n",
       "      <td>1</td>\n",
       "      <td>101348.88</td>\n",
       "      <td>1</td>\n",
       "    </tr>\n",
       "    <tr>\n",
       "      <th>1</th>\n",
       "      <td>608</td>\n",
       "      <td>Spain</td>\n",
       "      <td>Female</td>\n",
       "      <td>41</td>\n",
       "      <td>1</td>\n",
       "      <td>83807.86</td>\n",
       "      <td>1</td>\n",
       "      <td>0</td>\n",
       "      <td>1</td>\n",
       "      <td>112542.58</td>\n",
       "      <td>0</td>\n",
       "    </tr>\n",
       "    <tr>\n",
       "      <th>2</th>\n",
       "      <td>502</td>\n",
       "      <td>France</td>\n",
       "      <td>Female</td>\n",
       "      <td>42</td>\n",
       "      <td>8</td>\n",
       "      <td>159660.80</td>\n",
       "      <td>3</td>\n",
       "      <td>1</td>\n",
       "      <td>0</td>\n",
       "      <td>113931.57</td>\n",
       "      <td>1</td>\n",
       "    </tr>\n",
       "    <tr>\n",
       "      <th>3</th>\n",
       "      <td>699</td>\n",
       "      <td>France</td>\n",
       "      <td>Female</td>\n",
       "      <td>39</td>\n",
       "      <td>1</td>\n",
       "      <td>0.00</td>\n",
       "      <td>2</td>\n",
       "      <td>0</td>\n",
       "      <td>0</td>\n",
       "      <td>93826.63</td>\n",
       "      <td>0</td>\n",
       "    </tr>\n",
       "    <tr>\n",
       "      <th>4</th>\n",
       "      <td>850</td>\n",
       "      <td>Spain</td>\n",
       "      <td>Female</td>\n",
       "      <td>43</td>\n",
       "      <td>2</td>\n",
       "      <td>125510.82</td>\n",
       "      <td>1</td>\n",
       "      <td>1</td>\n",
       "      <td>1</td>\n",
       "      <td>79084.10</td>\n",
       "      <td>0</td>\n",
       "    </tr>\n",
       "  </tbody>\n",
       "</table>\n",
       "</div>"
      ],
      "text/plain": [
       "   CreditScore Geography  Gender  Age  Tenure    Balance  NumOfProducts  \\\n",
       "0          619    France  Female   42       2       0.00              1   \n",
       "1          608     Spain  Female   41       1   83807.86              1   \n",
       "2          502    France  Female   42       8  159660.80              3   \n",
       "3          699    France  Female   39       1       0.00              2   \n",
       "4          850     Spain  Female   43       2  125510.82              1   \n",
       "\n",
       "   HasCrCard  IsActiveMember  EstimatedSalary  Exited  \n",
       "0          1               1        101348.88       1  \n",
       "1          0               1        112542.58       0  \n",
       "2          1               0        113931.57       1  \n",
       "3          0               0         93826.63       0  \n",
       "4          1               1         79084.10       0  "
      ]
     },
     "execution_count": 11,
     "metadata": {},
     "output_type": "execute_result"
    }
   ],
   "source": [
    "dataset.head()"
   ]
  },
  {
   "cell_type": "code",
   "execution_count": 12,
   "id": "c5509b19",
   "metadata": {},
   "outputs": [
    {
     "data": {
      "text/plain": [
       "0        France\n",
       "1         Spain\n",
       "2        France\n",
       "3        France\n",
       "4         Spain\n",
       "         ...   \n",
       "9995     France\n",
       "9996     France\n",
       "9997     France\n",
       "9998    Germany\n",
       "9999     France\n",
       "Name: Geography, Length: 10000, dtype: object"
      ]
     },
     "execution_count": 12,
     "metadata": {},
     "output_type": "execute_result"
    }
   ],
   "source": [
    "dataset['Geography']"
   ]
  },
  {
   "cell_type": "code",
   "execution_count": 13,
   "id": "d9284eab",
   "metadata": {},
   "outputs": [
    {
     "data": {
      "text/plain": [
       "array(['France', 'Spain', 'Germany'], dtype=object)"
      ]
     },
     "execution_count": 13,
     "metadata": {},
     "output_type": "execute_result"
    }
   ],
   "source": [
    "dataset['Geography'].unique()"
   ]
  },
  {
   "cell_type": "code",
   "execution_count": 14,
   "id": "2370bce6",
   "metadata": {},
   "outputs": [
    {
     "data": {
      "text/plain": [
       "array(['Female', 'Male'], dtype=object)"
      ]
     },
     "execution_count": 14,
     "metadata": {},
     "output_type": "execute_result"
    }
   ],
   "source": [
    "dataset['Gender'].unique()"
   ]
  },
  {
   "cell_type": "code",
   "execution_count": 15,
   "id": "10730160",
   "metadata": {},
   "outputs": [],
   "source": [
    "dataset=pd.get_dummies(dataset,columns=['Geography','Gender'],drop_first=True)# here drop_first =True ----> actually drops first unique value in Geography and Gender"
   ]
  },
  {
   "cell_type": "code",
   "execution_count": 16,
   "id": "ff658b8a",
   "metadata": {},
   "outputs": [
    {
     "data": {
      "text/html": [
       "<div>\n",
       "<style scoped>\n",
       "    .dataframe tbody tr th:only-of-type {\n",
       "        vertical-align: middle;\n",
       "    }\n",
       "\n",
       "    .dataframe tbody tr th {\n",
       "        vertical-align: top;\n",
       "    }\n",
       "\n",
       "    .dataframe thead th {\n",
       "        text-align: right;\n",
       "    }\n",
       "</style>\n",
       "<table border=\"1\" class=\"dataframe\">\n",
       "  <thead>\n",
       "    <tr style=\"text-align: right;\">\n",
       "      <th></th>\n",
       "      <th>CreditScore</th>\n",
       "      <th>Age</th>\n",
       "      <th>Tenure</th>\n",
       "      <th>Balance</th>\n",
       "      <th>NumOfProducts</th>\n",
       "      <th>HasCrCard</th>\n",
       "      <th>IsActiveMember</th>\n",
       "      <th>EstimatedSalary</th>\n",
       "      <th>Exited</th>\n",
       "      <th>Geography_Germany</th>\n",
       "      <th>Geography_Spain</th>\n",
       "      <th>Gender_Male</th>\n",
       "    </tr>\n",
       "  </thead>\n",
       "  <tbody>\n",
       "    <tr>\n",
       "      <th>0</th>\n",
       "      <td>619</td>\n",
       "      <td>42</td>\n",
       "      <td>2</td>\n",
       "      <td>0.00</td>\n",
       "      <td>1</td>\n",
       "      <td>1</td>\n",
       "      <td>1</td>\n",
       "      <td>101348.88</td>\n",
       "      <td>1</td>\n",
       "      <td>0</td>\n",
       "      <td>0</td>\n",
       "      <td>0</td>\n",
       "    </tr>\n",
       "    <tr>\n",
       "      <th>1</th>\n",
       "      <td>608</td>\n",
       "      <td>41</td>\n",
       "      <td>1</td>\n",
       "      <td>83807.86</td>\n",
       "      <td>1</td>\n",
       "      <td>0</td>\n",
       "      <td>1</td>\n",
       "      <td>112542.58</td>\n",
       "      <td>0</td>\n",
       "      <td>0</td>\n",
       "      <td>1</td>\n",
       "      <td>0</td>\n",
       "    </tr>\n",
       "    <tr>\n",
       "      <th>2</th>\n",
       "      <td>502</td>\n",
       "      <td>42</td>\n",
       "      <td>8</td>\n",
       "      <td>159660.80</td>\n",
       "      <td>3</td>\n",
       "      <td>1</td>\n",
       "      <td>0</td>\n",
       "      <td>113931.57</td>\n",
       "      <td>1</td>\n",
       "      <td>0</td>\n",
       "      <td>0</td>\n",
       "      <td>0</td>\n",
       "    </tr>\n",
       "    <tr>\n",
       "      <th>3</th>\n",
       "      <td>699</td>\n",
       "      <td>39</td>\n",
       "      <td>1</td>\n",
       "      <td>0.00</td>\n",
       "      <td>2</td>\n",
       "      <td>0</td>\n",
       "      <td>0</td>\n",
       "      <td>93826.63</td>\n",
       "      <td>0</td>\n",
       "      <td>0</td>\n",
       "      <td>0</td>\n",
       "      <td>0</td>\n",
       "    </tr>\n",
       "    <tr>\n",
       "      <th>4</th>\n",
       "      <td>850</td>\n",
       "      <td>43</td>\n",
       "      <td>2</td>\n",
       "      <td>125510.82</td>\n",
       "      <td>1</td>\n",
       "      <td>1</td>\n",
       "      <td>1</td>\n",
       "      <td>79084.10</td>\n",
       "      <td>0</td>\n",
       "      <td>0</td>\n",
       "      <td>1</td>\n",
       "      <td>0</td>\n",
       "    </tr>\n",
       "  </tbody>\n",
       "</table>\n",
       "</div>"
      ],
      "text/plain": [
       "   CreditScore  Age  Tenure    Balance  NumOfProducts  HasCrCard  \\\n",
       "0          619   42       2       0.00              1          1   \n",
       "1          608   41       1   83807.86              1          0   \n",
       "2          502   42       8  159660.80              3          1   \n",
       "3          699   39       1       0.00              2          0   \n",
       "4          850   43       2  125510.82              1          1   \n",
       "\n",
       "   IsActiveMember  EstimatedSalary  Exited  Geography_Germany  \\\n",
       "0               1        101348.88       1                  0   \n",
       "1               1        112542.58       0                  0   \n",
       "2               0        113931.57       1                  0   \n",
       "3               0         93826.63       0                  0   \n",
       "4               1         79084.10       0                  0   \n",
       "\n",
       "   Geography_Spain  Gender_Male  \n",
       "0                0            0  \n",
       "1                1            0  \n",
       "2                0            0  \n",
       "3                0            0  \n",
       "4                1            0  "
      ]
     },
     "execution_count": 16,
     "metadata": {},
     "output_type": "execute_result"
    }
   ],
   "source": [
    "dataset.head()"
   ]
  },
  {
   "cell_type": "code",
   "execution_count": 17,
   "id": "35c86e6d",
   "metadata": {},
   "outputs": [],
   "source": [
    "x=dataset.drop(\"Exited\", axis=1)"
   ]
  },
  {
   "cell_type": "code",
   "execution_count": 18,
   "id": "c29a2fd3",
   "metadata": {},
   "outputs": [],
   "source": [
    "y=dataset['Exited']"
   ]
  },
  {
   "cell_type": "code",
   "execution_count": 19,
   "id": "c3e670b1",
   "metadata": {},
   "outputs": [
    {
     "name": "stdout",
     "output_type": "stream",
     "text": [
      "The shape of x train :  (8000, 11)\n",
      "The shape of x test :  (2000, 11)\n",
      "The shape of y train :  (8000,)\n",
      "The shape of y test :  (2000,)\n"
     ]
    }
   ],
   "source": [
    "from sklearn.model_selection import train_test_split\n",
    "x_train,x_test,y_train,y_test = train_test_split(x,y,test_size=0.2,stratify=y,random_state=42)#to have same output always.....random state is used.....one can use any value for random state\n",
    "print(\"The shape of x train : \", x_train.shape)\n",
    "print(\"The shape of x test : \", x_test.shape)\n",
    "print(\"The shape of y train : \", y_train.shape)\n",
    "print(\"The shape of y test : \", y_test.shape)"
   ]
  },
  {
   "cell_type": "code",
   "execution_count": 20,
   "id": "48de36a3",
   "metadata": {},
   "outputs": [],
   "source": [
    "from sklearn.preprocessing import StandardScaler"
   ]
  },
  {
   "cell_type": "code",
   "execution_count": 21,
   "id": "5c245570",
   "metadata": {},
   "outputs": [],
   "source": [
    "sc = StandardScaler()\n",
    "x_train = sc.fit_transform(x_train)# fit_transform avoids data leakage\n",
    "x_test = sc.transform(x_test)"
   ]
  },
  {
   "cell_type": "code",
   "execution_count": 22,
   "id": "f464bb3b",
   "metadata": {},
   "outputs": [],
   "source": [
    "classifier=Sequential()#empty model initialised"
   ]
  },
  {
   "cell_type": "code",
   "execution_count": 23,
   "id": "59f3972c",
   "metadata": {},
   "outputs": [],
   "source": [
    "# Adding i/p layer\n",
    "classifier.add(Dense(units=11, activation='relu'))\n",
    "# N.O. of feature in input layer =11"
   ]
  },
  {
   "cell_type": "code",
   "execution_count": 24,
   "id": "6493baab",
   "metadata": {},
   "outputs": [],
   "source": [
    "# Adding first hidden layer\n",
    "classifier.add(Dense(units=7, activation='relu'))\n",
    "# Let N.O. of neurons in hidden layer = 7\n",
    "classifier.add(Dropout(0.2))"
   ]
  },
  {
   "cell_type": "code",
   "execution_count": 25,
   "id": "fcbb9454",
   "metadata": {},
   "outputs": [],
   "source": [
    "# Adding second hidden layer\n",
    "classifier.add(Dense(units=6, activation='relu'))\n",
    "# Let N.O. of neurons in hidden layer = 6\n",
    "classifier.add(Dropout(0.3))"
   ]
  },
  {
   "cell_type": "code",
   "execution_count": 26,
   "id": "d81147e1",
   "metadata": {},
   "outputs": [],
   "source": [
    "# Adding o/p layer\n",
    "classifier.add(Dense(1, activation='sigmoid'))\n",
    "# N.O. of neurons in o/p layer = 1 .... for binary classification"
   ]
  },
  {
   "cell_type": "code",
   "execution_count": 27,
   "id": "f7be179c",
   "metadata": {},
   "outputs": [],
   "source": [
    "classifier.compile(optimizer='adam', loss='binary_crossentropy',metrics=['accuracy'])\n",
    "# adam is the best optimizer..by default adam uses a learning rte of 0.01\n",
    "#loss function used is binary crossentropy for binary classification"
   ]
  },
  {
   "cell_type": "code",
   "execution_count": 28,
   "id": "d60868e1",
   "metadata": {},
   "outputs": [
    {
     "data": {
      "text/plain": [
       "<keras.optimizers.optimizer_v2.adam.Adam at 0x1c1c3f57250>"
      ]
     },
     "execution_count": 28,
     "metadata": {},
     "output_type": "execute_result"
    }
   ],
   "source": [
    "import tensorflow\n",
    "tensorflow.keras.optimizers.Adam(learning_rate=0.01)"
   ]
  },
  {
   "cell_type": "code",
   "execution_count": 29,
   "id": "2f1af1e0",
   "metadata": {},
   "outputs": [],
   "source": [
    "#Early stopping - Stops training when a monitored metric has stopped improving\n",
    "import tensorflow as tf\n",
    "early_stopping=tf.keras.callbacks.EarlyStopping(\n",
    "    monitor=\"val_loss\",\n",
    "    min_delta=0.0001,\n",
    "    patience=20,\n",
    "    verbose=1,\n",
    "    mode=\"auto\",\n",
    "    baseline=None,\n",
    "    restore_best_weights=False,\n",
    ")"
   ]
  },
  {
   "cell_type": "code",
   "execution_count": 30,
   "id": "002a5838",
   "metadata": {},
   "outputs": [
    {
     "name": "stdout",
     "output_type": "stream",
     "text": [
      "Epoch 1/1000\n",
      "536/536 [==============================] - 6s 6ms/step - loss: 0.5556 - accuracy: 0.7557 - val_loss: 0.4793 - val_accuracy: 0.7895\n",
      "Epoch 2/1000\n",
      "536/536 [==============================] - 2s 4ms/step - loss: 0.4893 - accuracy: 0.7981 - val_loss: 0.4515 - val_accuracy: 0.7914\n",
      "Epoch 3/1000\n",
      "536/536 [==============================] - 2s 3ms/step - loss: 0.4596 - accuracy: 0.8035 - val_loss: 0.4348 - val_accuracy: 0.8012\n",
      "Epoch 4/1000\n",
      "536/536 [==============================] - 1s 3ms/step - loss: 0.4557 - accuracy: 0.8054 - val_loss: 0.4338 - val_accuracy: 0.8050\n",
      "Epoch 5/1000\n",
      "536/536 [==============================] - 1s 3ms/step - loss: 0.4429 - accuracy: 0.8095 - val_loss: 0.4275 - val_accuracy: 0.8069\n",
      "Epoch 6/1000\n",
      "536/536 [==============================] - 2s 4ms/step - loss: 0.4408 - accuracy: 0.8084 - val_loss: 0.4224 - val_accuracy: 0.8107\n",
      "Epoch 7/1000\n",
      "536/536 [==============================] - 3s 5ms/step - loss: 0.4322 - accuracy: 0.8119 - val_loss: 0.4175 - val_accuracy: 0.8118\n",
      "Epoch 8/1000\n",
      "536/536 [==============================] - 2s 4ms/step - loss: 0.4242 - accuracy: 0.8188 - val_loss: 0.4076 - val_accuracy: 0.8194\n",
      "Epoch 9/1000\n",
      "536/536 [==============================] - 2s 4ms/step - loss: 0.4153 - accuracy: 0.8184 - val_loss: 0.3993 - val_accuracy: 0.8217\n",
      "Epoch 10/1000\n",
      "536/536 [==============================] - 2s 4ms/step - loss: 0.4027 - accuracy: 0.8308 - val_loss: 0.3852 - val_accuracy: 0.8360\n",
      "Epoch 11/1000\n",
      "536/536 [==============================] - 2s 5ms/step - loss: 0.3989 - accuracy: 0.8309 - val_loss: 0.3789 - val_accuracy: 0.8406\n",
      "Epoch 12/1000\n",
      "536/536 [==============================] - 3s 5ms/step - loss: 0.3880 - accuracy: 0.8354 - val_loss: 0.3721 - val_accuracy: 0.8459\n",
      "Epoch 13/1000\n",
      "536/536 [==============================] - 2s 4ms/step - loss: 0.3854 - accuracy: 0.8423 - val_loss: 0.3642 - val_accuracy: 0.8482\n",
      "Epoch 14/1000\n",
      "536/536 [==============================] - 2s 4ms/step - loss: 0.3821 - accuracy: 0.8405 - val_loss: 0.3611 - val_accuracy: 0.8504\n",
      "Epoch 15/1000\n",
      "536/536 [==============================] - 2s 4ms/step - loss: 0.3811 - accuracy: 0.8433 - val_loss: 0.3618 - val_accuracy: 0.8504\n",
      "Epoch 16/1000\n",
      "536/536 [==============================] - 3s 6ms/step - loss: 0.3739 - accuracy: 0.8475 - val_loss: 0.3597 - val_accuracy: 0.8554\n",
      "Epoch 17/1000\n",
      "536/536 [==============================] - 3s 5ms/step - loss: 0.3763 - accuracy: 0.8462 - val_loss: 0.3571 - val_accuracy: 0.8576\n",
      "Epoch 18/1000\n",
      "536/536 [==============================] - 2s 4ms/step - loss: 0.3715 - accuracy: 0.8487 - val_loss: 0.3555 - val_accuracy: 0.8591\n",
      "Epoch 19/1000\n",
      "536/536 [==============================] - 2s 4ms/step - loss: 0.3719 - accuracy: 0.8496 - val_loss: 0.3534 - val_accuracy: 0.8603\n",
      "Epoch 20/1000\n",
      "536/536 [==============================] - 2s 4ms/step - loss: 0.3679 - accuracy: 0.8461 - val_loss: 0.3490 - val_accuracy: 0.8626\n",
      "Epoch 21/1000\n",
      "536/536 [==============================] - 2s 4ms/step - loss: 0.3668 - accuracy: 0.8481 - val_loss: 0.3502 - val_accuracy: 0.8618\n",
      "Epoch 22/1000\n",
      "536/536 [==============================] - 2s 4ms/step - loss: 0.3702 - accuracy: 0.8475 - val_loss: 0.3503 - val_accuracy: 0.8618\n",
      "Epoch 23/1000\n",
      "536/536 [==============================] - 2s 4ms/step - loss: 0.3668 - accuracy: 0.8535 - val_loss: 0.3569 - val_accuracy: 0.8519\n",
      "Epoch 24/1000\n",
      "536/536 [==============================] - 2s 3ms/step - loss: 0.3673 - accuracy: 0.8507 - val_loss: 0.3477 - val_accuracy: 0.8599\n",
      "Epoch 25/1000\n",
      "536/536 [==============================] - 2s 3ms/step - loss: 0.3718 - accuracy: 0.8502 - val_loss: 0.3487 - val_accuracy: 0.8595\n",
      "Epoch 26/1000\n",
      "536/536 [==============================] - 2s 3ms/step - loss: 0.3630 - accuracy: 0.8563 - val_loss: 0.3512 - val_accuracy: 0.8573\n",
      "Epoch 27/1000\n",
      "536/536 [==============================] - 3s 5ms/step - loss: 0.3671 - accuracy: 0.8509 - val_loss: 0.3487 - val_accuracy: 0.8569\n",
      "Epoch 28/1000\n",
      "536/536 [==============================] - 2s 4ms/step - loss: 0.3652 - accuracy: 0.8509 - val_loss: 0.3500 - val_accuracy: 0.8565\n",
      "Epoch 29/1000\n",
      "536/536 [==============================] - 2s 4ms/step - loss: 0.3613 - accuracy: 0.8526 - val_loss: 0.3516 - val_accuracy: 0.8584\n",
      "Epoch 30/1000\n",
      "536/536 [==============================] - 2s 4ms/step - loss: 0.3658 - accuracy: 0.8500 - val_loss: 0.3494 - val_accuracy: 0.8554\n",
      "Epoch 31/1000\n",
      "536/536 [==============================] - 2s 4ms/step - loss: 0.3661 - accuracy: 0.8503 - val_loss: 0.3506 - val_accuracy: 0.8588\n",
      "Epoch 32/1000\n",
      "536/536 [==============================] - 2s 4ms/step - loss: 0.3639 - accuracy: 0.8518 - val_loss: 0.3471 - val_accuracy: 0.8576\n",
      "Epoch 33/1000\n",
      "536/536 [==============================] - 2s 4ms/step - loss: 0.3650 - accuracy: 0.8539 - val_loss: 0.3466 - val_accuracy: 0.8595\n",
      "Epoch 34/1000\n",
      "536/536 [==============================] - 2s 3ms/step - loss: 0.3640 - accuracy: 0.8545 - val_loss: 0.3498 - val_accuracy: 0.8603\n",
      "Epoch 35/1000\n",
      "536/536 [==============================] - 2s 3ms/step - loss: 0.3604 - accuracy: 0.8539 - val_loss: 0.3483 - val_accuracy: 0.8591\n",
      "Epoch 36/1000\n",
      "536/536 [==============================] - 2s 4ms/step - loss: 0.3587 - accuracy: 0.8533 - val_loss: 0.3467 - val_accuracy: 0.8607\n",
      "Epoch 37/1000\n",
      "536/536 [==============================] - 2s 3ms/step - loss: 0.3602 - accuracy: 0.8548 - val_loss: 0.3488 - val_accuracy: 0.8580\n",
      "Epoch 38/1000\n",
      "536/536 [==============================] - 2s 4ms/step - loss: 0.3603 - accuracy: 0.8535 - val_loss: 0.3474 - val_accuracy: 0.8607\n",
      "Epoch 39/1000\n",
      "536/536 [==============================] - 2s 4ms/step - loss: 0.3553 - accuracy: 0.8563 - val_loss: 0.3494 - val_accuracy: 0.8573\n",
      "Epoch 40/1000\n",
      "536/536 [==============================] - 2s 3ms/step - loss: 0.3628 - accuracy: 0.8509 - val_loss: 0.3516 - val_accuracy: 0.8576\n",
      "Epoch 41/1000\n",
      "536/536 [==============================] - 2s 4ms/step - loss: 0.3529 - accuracy: 0.8563 - val_loss: 0.3485 - val_accuracy: 0.8588\n",
      "Epoch 42/1000\n",
      "536/536 [==============================] - 2s 5ms/step - loss: 0.3602 - accuracy: 0.8545 - val_loss: 0.3485 - val_accuracy: 0.8603\n",
      "Epoch 43/1000\n",
      "536/536 [==============================] - 2s 4ms/step - loss: 0.3539 - accuracy: 0.8524 - val_loss: 0.3486 - val_accuracy: 0.8588\n",
      "Epoch 44/1000\n",
      "536/536 [==============================] - 2s 3ms/step - loss: 0.3564 - accuracy: 0.8541 - val_loss: 0.3506 - val_accuracy: 0.8584\n",
      "Epoch 45/1000\n",
      "536/536 [==============================] - 2s 3ms/step - loss: 0.3604 - accuracy: 0.8558 - val_loss: 0.3501 - val_accuracy: 0.8573\n",
      "Epoch 46/1000\n",
      "536/536 [==============================] - 1s 3ms/step - loss: 0.3585 - accuracy: 0.8517 - val_loss: 0.3518 - val_accuracy: 0.8573\n",
      "Epoch 47/1000\n",
      "536/536 [==============================] - 1s 3ms/step - loss: 0.3570 - accuracy: 0.8545 - val_loss: 0.3491 - val_accuracy: 0.8569\n",
      "Epoch 48/1000\n",
      "536/536 [==============================] - 1s 3ms/step - loss: 0.3585 - accuracy: 0.8565 - val_loss: 0.3487 - val_accuracy: 0.8580\n",
      "Epoch 49/1000\n",
      "536/536 [==============================] - 1s 3ms/step - loss: 0.3598 - accuracy: 0.8545 - val_loss: 0.3504 - val_accuracy: 0.8580\n",
      "Epoch 50/1000\n",
      "536/536 [==============================] - 1s 3ms/step - loss: 0.3533 - accuracy: 0.8561 - val_loss: 0.3496 - val_accuracy: 0.8580\n",
      "Epoch 51/1000\n",
      "536/536 [==============================] - 2s 3ms/step - loss: 0.3541 - accuracy: 0.8591 - val_loss: 0.3455 - val_accuracy: 0.8580\n",
      "Epoch 52/1000\n",
      "536/536 [==============================] - 2s 3ms/step - loss: 0.3612 - accuracy: 0.8576 - val_loss: 0.3505 - val_accuracy: 0.8576\n",
      "Epoch 53/1000\n",
      "536/536 [==============================] - 2s 4ms/step - loss: 0.3601 - accuracy: 0.8535 - val_loss: 0.3484 - val_accuracy: 0.8576\n",
      "Epoch 54/1000\n",
      "536/536 [==============================] - 2s 4ms/step - loss: 0.3541 - accuracy: 0.8591 - val_loss: 0.3508 - val_accuracy: 0.8610\n",
      "Epoch 55/1000\n",
      "536/536 [==============================] - 2s 3ms/step - loss: 0.3515 - accuracy: 0.8569 - val_loss: 0.3510 - val_accuracy: 0.8595\n",
      "Epoch 56/1000\n",
      "536/536 [==============================] - 2s 3ms/step - loss: 0.3582 - accuracy: 0.8535 - val_loss: 0.3517 - val_accuracy: 0.8557\n",
      "Epoch 57/1000\n"
     ]
    },
    {
     "name": "stdout",
     "output_type": "stream",
     "text": [
      "536/536 [==============================] - 1s 3ms/step - loss: 0.3536 - accuracy: 0.8567 - val_loss: 0.3480 - val_accuracy: 0.8607\n",
      "Epoch 58/1000\n",
      "536/536 [==============================] - 1s 3ms/step - loss: 0.3508 - accuracy: 0.8567 - val_loss: 0.3494 - val_accuracy: 0.8599\n",
      "Epoch 59/1000\n",
      "536/536 [==============================] - 2s 4ms/step - loss: 0.3617 - accuracy: 0.8535 - val_loss: 0.3471 - val_accuracy: 0.8591\n",
      "Epoch 60/1000\n",
      "536/536 [==============================] - 3s 5ms/step - loss: 0.3546 - accuracy: 0.8593 - val_loss: 0.3465 - val_accuracy: 0.8595\n",
      "Epoch 61/1000\n",
      "536/536 [==============================] - 2s 4ms/step - loss: 0.3530 - accuracy: 0.8574 - val_loss: 0.3499 - val_accuracy: 0.8569\n",
      "Epoch 62/1000\n",
      "536/536 [==============================] - 2s 4ms/step - loss: 0.3562 - accuracy: 0.8543 - val_loss: 0.3488 - val_accuracy: 0.8610\n",
      "Epoch 63/1000\n",
      "536/536 [==============================] - 2s 3ms/step - loss: 0.3570 - accuracy: 0.8556 - val_loss: 0.3490 - val_accuracy: 0.8603\n",
      "Epoch 64/1000\n",
      "536/536 [==============================] - 2s 3ms/step - loss: 0.3548 - accuracy: 0.8509 - val_loss: 0.3486 - val_accuracy: 0.8573\n",
      "Epoch 65/1000\n",
      "536/536 [==============================] - 2s 3ms/step - loss: 0.3569 - accuracy: 0.8533 - val_loss: 0.3540 - val_accuracy: 0.8591\n",
      "Epoch 66/1000\n",
      "536/536 [==============================] - 2s 3ms/step - loss: 0.3546 - accuracy: 0.8546 - val_loss: 0.3499 - val_accuracy: 0.8584\n",
      "Epoch 67/1000\n",
      "536/536 [==============================] - 2s 3ms/step - loss: 0.3555 - accuracy: 0.8567 - val_loss: 0.3493 - val_accuracy: 0.8588\n",
      "Epoch 68/1000\n",
      "536/536 [==============================] - 2s 3ms/step - loss: 0.3483 - accuracy: 0.8625 - val_loss: 0.3537 - val_accuracy: 0.8557\n",
      "Epoch 69/1000\n",
      "536/536 [==============================] - 2s 3ms/step - loss: 0.3566 - accuracy: 0.8526 - val_loss: 0.3513 - val_accuracy: 0.8561\n",
      "Epoch 70/1000\n",
      "536/536 [==============================] - 2s 3ms/step - loss: 0.3543 - accuracy: 0.8567 - val_loss: 0.3506 - val_accuracy: 0.8588\n",
      "Epoch 71/1000\n",
      "536/536 [==============================] - 2s 3ms/step - loss: 0.3566 - accuracy: 0.8548 - val_loss: 0.3535 - val_accuracy: 0.8569\n",
      "Epoch 71: early stopping\n"
     ]
    }
   ],
   "source": [
    "model_history=classifier.fit(x_train,y_train,validation_split=0.33,batch_size=10,epochs=1000,callbacks=early_stopping)"
   ]
  },
  {
   "cell_type": "code",
   "execution_count": 31,
   "id": "262e395d",
   "metadata": {},
   "outputs": [
    {
     "name": "stdout",
     "output_type": "stream",
     "text": [
      "63/63 [==============================] - 0s 2ms/step\n"
     ]
    }
   ],
   "source": [
    "# Making predictions for evaluating model\n",
    "y_pred = classifier.predict(x_test)\n",
    "y_pred = (y_pred >= 0.5)"
   ]
  },
  {
   "cell_type": "code",
   "execution_count": 32,
   "id": "cc1fd004",
   "metadata": {},
   "outputs": [
    {
     "data": {
      "text/plain": [
       "array([[1562,   31],\n",
       "       [ 261,  146]], dtype=int64)"
      ]
     },
     "execution_count": 32,
     "metadata": {},
     "output_type": "execute_result"
    }
   ],
   "source": [
    "# Making confusion matrix\n",
    "from sklearn.metrics import confusion_matrix\n",
    "cm=confusion_matrix(y_test,y_pred)\n",
    "cm"
   ]
  },
  {
   "cell_type": "code",
   "execution_count": 33,
   "id": "ad1144b3",
   "metadata": {},
   "outputs": [
    {
     "data": {
      "text/plain": [
       "0.854"
      ]
     },
     "execution_count": 33,
     "metadata": {},
     "output_type": "execute_result"
    }
   ],
   "source": [
    "# Calculate the accuracy\n",
    "from sklearn.metrics import accuracy_score\n",
    "score=accuracy_score(y_test,y_pred)\n",
    "score"
   ]
  },
  {
   "cell_type": "code",
   "execution_count": 34,
   "id": "ea63ecb6",
   "metadata": {},
   "outputs": [
    {
     "name": "stdout",
     "output_type": "stream",
     "text": [
      "              precision    recall  f1-score   support\n",
      "\n",
      "           0       0.86      0.98      0.91      1593\n",
      "           1       0.82      0.36      0.50       407\n",
      "\n",
      "    accuracy                           0.85      2000\n",
      "   macro avg       0.84      0.67      0.71      2000\n",
      "weighted avg       0.85      0.85      0.83      2000\n",
      "\n"
     ]
    }
   ],
   "source": [
    "#To print the Classification Report :\n",
    "from sklearn.metrics import classification_report\n",
    "cr = classification_report(y_test,y_pred)\n",
    "print(cr)"
   ]
  },
  {
   "cell_type": "code",
   "execution_count": null,
   "id": "159103e2",
   "metadata": {},
   "outputs": [],
   "source": []
  }
 ],
 "metadata": {
  "kernelspec": {
   "display_name": "Python 3 (ipykernel)",
   "language": "python",
   "name": "python3"
  },
  "language_info": {
   "codemirror_mode": {
    "name": "ipython",
    "version": 3
   },
   "file_extension": ".py",
   "mimetype": "text/x-python",
   "name": "python",
   "nbconvert_exporter": "python",
   "pygments_lexer": "ipython3",
   "version": "3.9.12"
  }
 },
 "nbformat": 4,
 "nbformat_minor": 5
}
